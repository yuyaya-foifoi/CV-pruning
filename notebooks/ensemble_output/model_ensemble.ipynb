{
 "cells": [
  {
   "cell_type": "code",
   "execution_count": null,
   "metadata": {},
   "outputs": [],
   "source": [
    "cd ../../"
   ]
  },
  {
   "cell_type": "code",
   "execution_count": null,
   "metadata": {},
   "outputs": [],
   "source": [
    "from src.models.resnet.resnet import ResNet18\n",
    "import torch\n",
    "from src.pruning.slth.edgepopup_ensemble_output import modify_module_for_slth\n",
    "from src.data.cifar.cifar10 import get_cifar10_data_loaders\n",
    "from src.utils.seed import torch_fix_seed\n",
    "device = \"cuda\"\n",
    "batch_size = 128\n",
    "seed = 2\n",
    "\n",
    "if seed == 0:\n",
    "    torch_fix_seed(0)\n",
    "    base_path = \"./logs/CIFAR10/is_prune/ensemble_output/seed_0/2024_03_27_16_44_39/resnet_slth{}_state.pkl\"\n",
    "    no_prune_path = \"./logs/CIFAR10/no_prune/seed_0/2024_03_28_15_30_04/model_state.pkl\"\n",
    "\n",
    "if seed == 1:\n",
    "    torch_fix_seed(1)\n",
    "    base_path = \"./logs/CIFAR10/is_prune/ensemble_output/seed_1/2024_03_27_16_44_39/resnet_slth{}_state.pkl\"\n",
    "    no_prune_path = \"./logs/CIFAR10/no_prune/seed_1/2024_03_28_15_30_04/model_state.pkl\"\n",
    "\n",
    "if seed == 2:\n",
    "    torch_fix_seed(2)\n",
    "    base_path = \"./logs/CIFAR10/is_prune/ensemble_output/seed_2/2024_03_27_16_44_39/resnet_slth{}_state.pkl\"\n",
    "    no_prune_path = \"./logs/CIFAR10/no_prune/seed_2/2024_03_28_15_30_04/model_state.pkl\""
   ]
  },
  {
   "cell_type": "code",
   "execution_count": null,
   "metadata": {},
   "outputs": [],
   "source": [
    "train_loader, test_loader = get_cifar10_data_loaders(batch_size)\n",
    "\n",
    "import numpy as np\n",
    "from tqdm import tqdm\n",
    "import torch.nn.functional as F\n",
    "import torch.nn as nn\n",
    "\n",
    "device = 'cuda'\n",
    "\n",
    "paths = {\"slth{}_path\".format(str(i)): base_path.format(str(i)) for i in np.arange(1, 7)}\n",
    "weights = {\"slth{}_weight\".format(str(i)): torch.load(base_path.format(str(i))) for i in np.arange(1, 7)}\n"
   ]
  },
  {
   "cell_type": "code",
   "execution_count": null,
   "metadata": {},
   "outputs": [],
   "source": [
    "# すべてのweightsをリストに格納\n",
    "import copy\n",
    "from itertools import islice\n",
    "\n",
    "weight_list = dict(islice(weights.items(), 1, 3)).values()\n",
    "original = weights['slth1_weight']\n",
    "copied = copy.deepcopy(original)\n",
    "\n",
    "# slth1_weightの'score'を含むキーのみを処理\n",
    "for key in copied:\n",
    "    if 'scores' in key:\n",
    "        total_sum = copied[key].clone()  # slth1_weightの値を基点とする\n",
    "        for weight in weight_list:\n",
    "            total_sum += weight[key]\n",
    "        # 合計した値をweightsの数で割る\n",
    "        copied[key] = total_sum / len(weight_list)\n"
   ]
  },
  {
   "cell_type": "code",
   "execution_count": null,
   "metadata": {},
   "outputs": [],
   "source": [
    "for key in copied:\n",
    "    if 'scores' in key:\n",
    "        print(torch._is_all_true(original[key] == copied[key]).item())"
   ]
  },
  {
   "cell_type": "code",
   "execution_count": null,
   "metadata": {},
   "outputs": [],
   "source": [
    "model = modify_module_for_slth(ResNet18(), 0.3).to(\"cuda\")\n",
    "model.load_state_dict(copied)\n",
    "model.eval()"
   ]
  },
  {
   "cell_type": "code",
   "execution_count": null,
   "metadata": {},
   "outputs": [],
   "source": [
    "with torch.no_grad():\n",
    "    correct = 0\n",
    "    total = 0\n",
    "    for images, labels in test_loader:\n",
    "        images = images.to(device)\n",
    "        labels = labels.to(device)\n",
    "\n",
    "        _, predicted = torch.max(model(images), 1)\n",
    "        total += labels.size(0)\n",
    "        correct += (predicted == labels).sum().item()\n",
    "        \n",
    "    acc = 100 * correct / total\n",
    "    print(acc)"
   ]
  },
  {
   "cell_type": "code",
   "execution_count": null,
   "metadata": {},
   "outputs": [],
   "source": [
    "model(images)"
   ]
  },
  {
   "cell_type": "code",
   "execution_count": null,
   "metadata": {},
   "outputs": [],
   "source": []
  }
 ],
 "metadata": {
  "kernelspec": {
   "display_name": ".venv",
   "language": "python",
   "name": "python3"
  },
  "language_info": {
   "codemirror_mode": {
    "name": "ipython",
    "version": 3
   },
   "file_extension": ".py",
   "mimetype": "text/x-python",
   "name": "python",
   "nbconvert_exporter": "python",
   "pygments_lexer": "ipython3",
   "version": "3.9.0"
  },
  "orig_nbformat": 4
 },
 "nbformat": 4,
 "nbformat_minor": 2
}
