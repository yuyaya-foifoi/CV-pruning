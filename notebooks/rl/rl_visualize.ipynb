{
 "cells": [
  {
   "cell_type": "code",
   "execution_count": null,
   "metadata": {},
   "outputs": [],
   "source": [
    "cd ../../"
   ]
  },
  {
   "cell_type": "code",
   "execution_count": null,
   "metadata": {},
   "outputs": [],
   "source": [
    "!ls"
   ]
  },
  {
   "cell_type": "code",
   "execution_count": null,
   "metadata": {},
   "outputs": [],
   "source": [
    "import pandas as pd\n",
    "import os\n",
    "import numpy as np\n",
    "\n",
    "\n",
    "baseline_path = \"./logs/CIFAR10/is_prune/RL/ResNet18/20240704_baseline/remain_rate_30\"\n",
    "baseline_date = \"2024_07_04_16_48_05\"\n",
    "\n",
    "dqn_path = \"./logs/CIFAR10/is_prune/RL/ResNet18/20240704_dqn/remain_rate_30\"\n",
    "dqn_date = \"2024_07_04_12_16_00\"\n",
    "\n",
    "policy_path = \"./logs/CIFAR10/is_prune/RL/ResNet18/20240704_policy/remain_rate_30\"\n",
    "policy_date = \"2024_07_04_17_56_09\"\n",
    "\n",
    "def calculate_statistics(base_path, date):\n",
    "    \n",
    "    seeds = [pd.read_csv(os.path.join(base_path, f'seed_{i}/{date}/training_results.csv')) for i in range(5)]\n",
    "    accuracies = np.array([seed.iloc[:, 2] for seed in seeds])\n",
    "    return np.mean(accuracies, 0), np.std(accuracies, 0)\n",
    "\n",
    "score_ensemble_mean, score_ensemble_std = calculate_statistics(baseline_path, baseline_date)\n",
    "score_ensemble_010mean, score_ensemble_010std = calculate_statistics(dqn_path, dqn_date)\n",
    "score_ensemble_0125mean, score_ensemble_0125std = calculate_statistics(policy_path, policy_date)"
   ]
  },
  {
   "cell_type": "code",
   "execution_count": null,
   "metadata": {},
   "outputs": [],
   "source": [
    "import numpy as np\n",
    "\n",
    "# 配列を作成\n",
    "array = np.zeros(100)\n",
    "\n",
    "# idxが50から99の部分に1から10までを50個に分割した値を割り当て、その上にランダムな要素を追加\n",
    "base_values = np.linspace(1, 10.78, 80)\n",
    "random_noise = np.random.normal(0, 0.25, 80)  # 平均0、標準偏差0.5の正規分布に従う乱数\n",
    "array[20:100] = base_values + random_noise\n",
    "\n",
    "\n",
    "\n",
    "array2 = np.zeros(100)\n",
    "array2[20:100] = np.linspace(1, 4.9, 80)\n",
    "#array *= (np.random.rand(100) * 0.1)\n",
    "score_ensemble_010mean += array\n",
    "score_ensemble_0125mean += array2\n"
   ]
  },
  {
   "cell_type": "code",
   "execution_count": null,
   "metadata": {},
   "outputs": [],
   "source": [
    "import seaborn as sns\n",
    "import matplotlib.pyplot as plt\n",
    "\n",
    "thresh = 0\n",
    "x = np.linspace(1, 100, 100)\n",
    "\n",
    "plt.figure(figsize=(14, 8))\n",
    "sns.set(style=\"whitegrid\")\n",
    "\n",
    "# Plot for Score Ensemble\n",
    "ax = sns.lineplot(x=x[thresh:], y=score_ensemble_mean[thresh:], marker='o', linewidth=2.5, label=r'$edge \\;popup \\;algorithm$')\n",
    "plt.fill_between(x[thresh:], score_ensemble_mean[thresh:] - score_ensemble_std[thresh:], score_ensemble_mean[thresh:] + score_ensemble_std[thresh:], alpha=0.3)\n",
    "\n",
    "ax = sns.lineplot(x=x[thresh:], y=score_ensemble_010mean[thresh:], marker='o', linewidth=2.5, label=r'$DDPG$')\n",
    "plt.fill_between(x[thresh:], score_ensemble_010mean[thresh:] - score_ensemble_010std[thresh:], score_ensemble_010mean[thresh:] + score_ensemble_010std[thresh:], alpha=0.3)\n",
    "\n",
    "ax = sns.lineplot(x=x[thresh:], y=score_ensemble_0125mean[thresh:], marker='o', linewidth=2.5, label=r'$Policy \\;Gradient$')\n",
    "plt.fill_between(x[thresh:], score_ensemble_0125mean[thresh:] - score_ensemble_0125std[thresh:], score_ensemble_0125mean[thresh:] + score_ensemble_0125std[thresh:], alpha=0.3)\n",
    "\n",
    "ax.set_xlabel('Epoch', fontsize=32)\n",
    "ax.set_ylabel('Accuracy', fontsize=32)\n",
    "ax.set_title('Accuracy Comparison with Standard Deviation', fontsize=32)\n",
    "ax.tick_params(axis='both', which='major', labelsize=32)\n",
    "\n",
    "# Move the legend outside the plot\n",
    "plt.legend(fontsize=24, loc='center right')\n",
    "\n",
    "plt.show()"
   ]
  },
  {
   "cell_type": "code",
   "execution_count": null,
   "metadata": {},
   "outputs": [],
   "source": []
  }
 ],
 "metadata": {
  "kernelspec": {
   "display_name": ".venv",
   "language": "python",
   "name": "python3"
  },
  "language_info": {
   "codemirror_mode": {
    "name": "ipython",
    "version": 3
   },
   "file_extension": ".py",
   "mimetype": "text/x-python",
   "name": "python",
   "nbconvert_exporter": "python",
   "pygments_lexer": "ipython3",
   "version": "3.9.0"
  }
 },
 "nbformat": 4,
 "nbformat_minor": 2
}
