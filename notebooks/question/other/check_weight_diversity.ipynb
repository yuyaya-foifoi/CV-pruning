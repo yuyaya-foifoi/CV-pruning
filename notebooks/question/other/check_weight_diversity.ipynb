{
 "cells": [
  {
   "cell_type": "code",
   "execution_count": null,
   "metadata": {},
   "outputs": [],
   "source": [
    "cd ../../../"
   ]
  },
  {
   "cell_type": "code",
   "execution_count": null,
   "metadata": {},
   "outputs": [],
   "source": [
    "!ls"
   ]
  },
  {
   "cell_type": "code",
   "execution_count": null,
   "metadata": {},
   "outputs": [],
   "source": [
    "import torch\n",
    "path = \"logs/CIFAR10/is_prune/ensemble_output_diff_score/20240630_q2_1_diff_rate/seed_0/2024_06_30_21_32_18/resnet_slth1_state.pkl\"\n",
    "weights = torch.load(path)"
   ]
  },
  {
   "cell_type": "code",
   "execution_count": null,
   "metadata": {},
   "outputs": [],
   "source": [
    "# ユニークな値とキーを保持する辞書\n",
    "from collections import defaultdict\n",
    "unique_values_dict = defaultdict(list)\n",
    "\n",
    "# 層ごとに重みのユニークな値を取得し、辞書に保存\n",
    "for key, value in weights.items():\n",
    "    if key.endswith('weight'):\n",
    "        unique_values, counts = np.unique(value.cpu().numpy(), return_counts=True)\n",
    "        unique_values_dict[key] = (unique_values, counts)\n",
    "\n",
    "# 層ごとの重複の確認\n",
    "duplicate_layers = {}\n",
    "\n",
    "for key, (unique_values, counts) in unique_values_dict.items():\n",
    "    duplicates = counts[counts > 1]\n",
    "    if len(duplicates) > 0:\n",
    "        duplicate_layers[key] = {\n",
    "            \"Unique values\": unique_values,\n",
    "            \"Counts\": counts,\n",
    "            \"Number of unique values\": len(unique_values),\n",
    "            \"Number of duplicates\": len(duplicates)\n",
    "        }\n",
    "\n",
    "# 重複が見られる層を出力\n",
    "for key, info in duplicate_layers.items():\n",
    "    print(f\"Layer: {key}\")\n",
    "    print(\"Unique values and their counts:\")\n",
    "    for val, count in zip(info[\"Unique values\"], info[\"Counts\"]):\n",
    "        print(f\"Value: {val}, Count: {count}\")\n",
    "    print(\"Number of unique values:\", info[\"Number of unique values\"])\n",
    "    print(\"Number of duplicates:\", info[\"Number of duplicates\"])\n",
    "    print()  # 改行\n",
    "\n",
    "# 重複が見られる層の数を出力\n",
    "print(\"Number of layers with duplicates:\", len(duplicate_layers))"
   ]
  },
  {
   "cell_type": "code",
   "execution_count": null,
   "metadata": {},
   "outputs": [],
   "source": [
    "# 重複が見られる層の情報をユニークな値でグループ化\n",
    "grouped_by_unique_values = defaultdict(list)\n",
    "for key, info in duplicate_layers.items():\n",
    "    unique_values_tuple = tuple(info[\"Unique values\"])\n",
    "    grouped_by_unique_values[unique_values_tuple].append(key)\n",
    "\n",
    "# グループ化された情報を出力\n",
    "for unique_values, keys in grouped_by_unique_values.items():\n",
    "    print(f\"Unique values: {unique_values}\")\n",
    "    print(f\"Layers with these unique values: {keys}\")\n",
    "    print()  # 改行"
   ]
  },
  {
   "cell_type": "code",
   "execution_count": null,
   "metadata": {},
   "outputs": [],
   "source": [
    "len(duplicate_layers)"
   ]
  },
  {
   "cell_type": "code",
   "execution_count": null,
   "metadata": {},
   "outputs": [],
   "source": []
  }
 ],
 "metadata": {
  "kernelspec": {
   "display_name": ".venv",
   "language": "python",
   "name": "python3"
  },
  "language_info": {
   "codemirror_mode": {
    "name": "ipython",
    "version": 3
   },
   "file_extension": ".py",
   "mimetype": "text/x-python",
   "name": "python",
   "nbconvert_exporter": "python",
   "pygments_lexer": "ipython3",
   "version": "3.9.0"
  }
 },
 "nbformat": 4,
 "nbformat_minor": 2
}
