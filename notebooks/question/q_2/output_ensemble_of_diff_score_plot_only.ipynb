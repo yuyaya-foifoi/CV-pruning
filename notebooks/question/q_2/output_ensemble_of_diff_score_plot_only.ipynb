{
 "cells": [
  {
   "cell_type": "code",
   "execution_count": null,
   "metadata": {},
   "outputs": [],
   "source": [
    "cd ../../../"
   ]
  },
  {
   "cell_type": "code",
   "execution_count": null,
   "metadata": {},
   "outputs": [],
   "source": [
    "# all_ensemble\n",
    "# partial ensemble(ex. 任意に選んだ2個, or 3個など)\n",
    "\n",
    "import pandas as pd\n",
    "import os\n",
    "import numpy as np\n",
    "\n",
    "# ensemble\n",
    "ensemble_base_path = \"./logs/CIFAR10/is_prune/ensemble_output_diff_score/20240628_q2_1\"\n",
    "ensemble_date = \"2024_06_28_15_01_47\"\n",
    "\n",
    "ensemble_base_010path = \"./logs/CIFAR10/is_prune/ensemble_output_diff_score/20240630_q2_1_diff_rate\"\n",
    "ensemble_010date = \"2024_07_01_23_37_11\"\n",
    "\n",
    "ensemble_base_0125path = \"./logs/CIFAR10/is_prune/ensemble_output_diff_score/20240630_q2_1_diff_rate\"\n",
    "ensemble_0125date = \"2024_06_30_21_32_18\"\n",
    "\n",
    "# no prune\n",
    "no_prune_base_path = \"./logs/CIFAR10/no_prune/20240611_q1_no_prune\"\n",
    "no_prune_date = \"2024_06_11_16_13_45\"\n",
    "\n",
    "# is prune (no_ensemble)\n",
    "prune_base_path = \"./logs/CIFAR10/is_prune/baseline/20240606_q1/remain_rate_30\"\n",
    "prune_date = \"2024_06_07_00_03_15\"\n",
    "\n",
    "\n",
    "def calculate_statistics(base_path, date):\n",
    "    \n",
    "    seeds = [pd.read_csv(os.path.join(base_path, f'seed_{i}/{date}/training_results.csv')) for i in range(5)]\n",
    "    accuracies = np.array([seed.iloc[:, 2] for seed in seeds])\n",
    "    return np.mean(accuracies, 0), np.std(accuracies, 0)\n",
    "\n",
    "score_ensemble_mean, score_ensemble_std = calculate_statistics(ensemble_base_path, ensemble_date)\n",
    "score_ensemble_010mean, score_ensemble_010std = calculate_statistics(ensemble_base_010path, ensemble_010date)\n",
    "score_ensemble_0125mean, score_ensemble_0125std = calculate_statistics(ensemble_base_0125path, ensemble_0125date)\n",
    "\n",
    "no_prune_mean, no_prune_std = calculate_statistics(no_prune_base_path, no_prune_date)\n",
    "is_prune_mean, is_prune_std = calculate_statistics(prune_base_path, prune_date)\n"
   ]
  },
  {
   "cell_type": "code",
   "execution_count": null,
   "metadata": {},
   "outputs": [],
   "source": [
    "import seaborn as sns\n",
    "import matplotlib.pyplot as plt\n",
    "\n",
    "thresh = 70\n",
    "x = np.linspace(1, 100, 100)\n",
    "\n",
    "plt.figure(figsize=(14, 8))\n",
    "sns.set(style=\"whitegrid\")\n",
    "\n",
    "score_ensemble_010mean, score_ensemble_010std = calculate_statistics(ensemble_base_010path, ensemble_010date)\n",
    "score_ensemble_0125mean, score_ensemble_0125std = calculate_statistics(ensemble_base_0125path, ensemble_0125date)\n",
    "\n",
    "\n",
    "# Plot for Score Ensemble\n",
    "ax = sns.lineplot(x=x[thresh:], y=score_ensemble_mean[thresh:], marker='o', linewidth=2.5, label=r'$Score \\;Ensemble  \\;remain=30\\%$')\n",
    "plt.fill_between(x[thresh:], score_ensemble_mean[thresh:] - score_ensemble_std[thresh:], score_ensemble_mean[thresh:] + score_ensemble_std[thresh:], alpha=0.3)\n",
    "\n",
    "ax = sns.lineplot(x=x[thresh:], y=score_ensemble_010mean[thresh:], marker='o', linewidth=2.5, label=r'$Score \\;Ensemble  \\;remain=10\\%$')\n",
    "plt.fill_between(x[thresh:], score_ensemble_010mean[thresh:] - score_ensemble_010std[thresh:], score_ensemble_010mean[thresh:] + score_ensemble_010std[thresh:], alpha=0.3)\n",
    "\n",
    "ax = sns.lineplot(x=x[thresh:], y=score_ensemble_0125mean[thresh:], marker='o', linewidth=2.5, label=r'$Score \\;Ensemble  \\;remain=12.5\\%$')\n",
    "plt.fill_between(x[thresh:], score_ensemble_0125mean[thresh:] - score_ensemble_0125std[thresh:], score_ensemble_0125mean[thresh:] + score_ensemble_0125std[thresh:], alpha=0.3)\n",
    "\n",
    "\n",
    "# Plot for No Prune\n",
    "ax = sns.lineplot(x=x[thresh:], y=no_prune_mean[thresh:], marker='o', linewidth=2.5, label=r'$No \\;Prune$')\n",
    "plt.fill_between(x[thresh:], no_prune_mean[thresh:] - no_prune_std[thresh:], no_prune_mean[thresh:] + no_prune_std[thresh:], alpha=0.3)\n",
    "\n",
    "# Plot for IS Prune\n",
    "ax = sns.lineplot(x=x[thresh:], y=is_prune_mean[thresh:], marker='o', linewidth=2.5, label=r'$No\\;Ensemble\\;remain=30\\%,\\;(Weights\\;\\sim\\;U_k)$')\n",
    "plt.fill_between(x[thresh:], is_prune_mean[thresh:] - is_prune_std[thresh:], is_prune_mean[thresh:] + is_prune_std[thresh:], alpha=0.3)\n",
    "\n",
    "ax.set_xlabel('Epoch', fontsize=32)\n",
    "ax.set_ylabel('Accuracy', fontsize=32)\n",
    "ax.set_title('Accuracy Comparison with Standard Deviation', fontsize=32)\n",
    "ax.tick_params(axis='both', which='major', labelsize=32)\n",
    "\n",
    "# Move the legend outside the plot\n",
    "#plt.legend(fontsize=24, loc='upper left', bbox_to_anchor=(1, 1))\n",
    "# Move the legend outside the plot\n",
    "plt.legend(fontsize=24, loc='lower left')\n",
    "\n",
    "plt.show()"
   ]
  },
  {
   "cell_type": "code",
   "execution_count": null,
   "metadata": {},
   "outputs": [],
   "source": []
  }
 ],
 "metadata": {
  "kernelspec": {
   "display_name": ".venv",
   "language": "python",
   "name": "python3"
  },
  "language_info": {
   "codemirror_mode": {
    "name": "ipython",
    "version": 3
   },
   "file_extension": ".py",
   "mimetype": "text/x-python",
   "name": "python",
   "nbconvert_exporter": "python",
   "pygments_lexer": "ipython3",
   "version": "3.9.0"
  }
 },
 "nbformat": 4,
 "nbformat_minor": 2
}
