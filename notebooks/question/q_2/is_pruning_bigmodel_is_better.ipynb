{
 "cells": [
  {
   "cell_type": "code",
   "execution_count": null,
   "metadata": {},
   "outputs": [],
   "source": [
    "cd ../../../"
   ]
  },
  {
   "cell_type": "code",
   "execution_count": null,
   "metadata": {},
   "outputs": [],
   "source": [
    "from glob import glob\n",
    "import os\n",
    "from src.data import get_data_loaders\n",
    "from src.models.resnet.resnet import ResNet18\n",
    "from src.pruning.slth.edgepopup import modify_module_for_slth\n",
    "from tqdm import tqdm\n",
    "import torch\n",
    "import numpy as np\n",
    "import copy\n",
    "import re\n",
    "import pandas as pd\n",
    "\n",
    "\n",
    "def get_files_with_extension_recursively(base_path: str, extension: str):\n",
    "    if not extension.startswith('.'):\n",
    "        extension = '.' + extension\n",
    "    search_pattern = os.path.join(base_path, '**', '*' + extension)\n",
    "    files = glob(search_pattern, recursive=True)\n",
    "    return files\n",
    "\n",
    "base_path = \"./logs/CIFAR10/is_prune/baseline/20240606_q1/remain_rate_30\"\n",
    "base_csvs = get_files_with_extension_recursively(base_path, '.csv')\n",
    "base_acc = np.array([pd.read_csv(csv).iloc[:, 2] for csv in base_csvs])\n",
    "\n",
    "big_model_path = \"./logs/CIFAR10/is_prune/baseline/ResNet152/20240619_follow_up_pruning_big_model/remain_rate_6\"\n",
    "big_modele_csvs = get_files_with_extension_recursively(big_model_path, '.csv')\n",
    "big_modele_acc = np.array([pd.read_csv(csv).iloc[:, 2] for csv in big_modele_csvs])\n"
   ]
  },
  {
   "cell_type": "code",
   "execution_count": null,
   "metadata": {},
   "outputs": [],
   "source": [
    "import seaborn as sns\n",
    "import matplotlib.pyplot as plt\n",
    "\n",
    "\n",
    "\n",
    "# 平均と標準偏差の計算\n",
    "base_acc_mean = np.mean(base_acc, axis=0)\n",
    "base_acc_std = np.std(base_acc, axis=0)\n",
    "\n",
    "big_modele_acc_mean = np.mean(big_modele_acc, axis=0)\n",
    "big_modele_acc_std = np.std(big_modele_acc, axis=0)\n",
    "\n",
    "# 表示するエポック数の指定\n",
    "start_epoch = 50\n",
    "\n",
    "# プロットの作成\n",
    "epochs = np.arange(1, base_acc_mean.shape[0] + 1)\n",
    "\n",
    "plt.figure(figsize=(14, 10))\n",
    "\n",
    "sns.lineplot(x=epochs[start_epoch-1:], y=base_acc_mean[start_epoch-1:], label=r'$ResNet18  \\;remain=30\\%$', color=\"blue\")\n",
    "plt.fill_between(epochs[start_epoch-1:], base_acc_mean[start_epoch-1:] - base_acc_std[start_epoch-1:], base_acc_mean[start_epoch-1:] + base_acc_std[start_epoch-1:], alpha=0.2, color=\"blue\")\n",
    "\n",
    "sns.lineplot(x=epochs[start_epoch-1:], y=big_modele_acc_mean[start_epoch-1:], label=r'$ResNet152  \\;remain=6\\%$', color=\"orange\")\n",
    "plt.fill_between(epochs[start_epoch-1:], big_modele_acc_mean[start_epoch-1:] - big_modele_acc_std[start_epoch-1:], big_modele_acc_mean[start_epoch-1:] + big_modele_acc_std[start_epoch-1:], alpha=0.2, color=\"orange\")\n",
    "\n",
    "plt.title(\"Accuracy over Epochs with Error Bars\", fontsize=32)\n",
    "plt.xlabel(\"Epoch\", fontsize=32)\n",
    "plt.ylabel(\"Accuracy\", fontsize=32)\n",
    "plt.xticks(fontsize=32)\n",
    "plt.yticks(fontsize=32)\n",
    "plt.legend(fontsize=32)\n",
    "plt.grid(True)\n",
    "plt.tight_layout()\n",
    "plt.show()"
   ]
  },
  {
   "cell_type": "code",
   "execution_count": null,
   "metadata": {},
   "outputs": [],
   "source": []
  }
 ],
 "metadata": {
  "kernelspec": {
   "display_name": ".venv",
   "language": "python",
   "name": "python3"
  },
  "language_info": {
   "codemirror_mode": {
    "name": "ipython",
    "version": 3
   },
   "file_extension": ".py",
   "mimetype": "text/x-python",
   "name": "python",
   "nbconvert_exporter": "python",
   "pygments_lexer": "ipython3",
   "version": "3.9.0"
  }
 },
 "nbformat": 4,
 "nbformat_minor": 2
}
