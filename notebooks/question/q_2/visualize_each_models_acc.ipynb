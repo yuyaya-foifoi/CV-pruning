{
 "cells": [
  {
   "cell_type": "code",
   "execution_count": null,
   "metadata": {},
   "outputs": [],
   "source": [
    "cd ../../../"
   ]
  },
  {
   "cell_type": "code",
   "execution_count": null,
   "metadata": {},
   "outputs": [],
   "source": [
    "import os\n",
    "import re\n",
    "import numpy as np\n",
    "import torch\n",
    "from src.data import get_data_loaders\n",
    "from src.models.resnet.resnet import ResNet18\n",
    "from src.pruning.slth.edgepopup import modify_module_for_slth\n",
    "from tqdm import tqdm\n",
    "\n",
    "remain_rate = 0.3\n",
    "n_class = 10\n",
    "dataset_name = \"CIFAR10\"\n",
    "batch_size = 128\n",
    "device = \"cuda\"\n",
    "\n",
    "def get_files_with_extension(base_path, extension):\n",
    "    files_with_extension = []\n",
    "    for root, dirs, files in os.walk(base_path):\n",
    "        for file in files:\n",
    "            if file.endswith(extension):\n",
    "                files_with_extension.append(os.path.join(root, file))\n",
    "    return files_with_extension\n",
    "\n",
    "# Base path template for the logs\n",
    "base_path_template = './logs/CIFAR10/is_prune/ensemble_output_diff_score/20240628_q2_1/seed_{}'\n",
    "extension = '.pkl'\n",
    "\n",
    "def extract_number(file_path):\n",
    "    match = re.search(r'slth(\\d+)_state', file_path)\n",
    "    return int(match.group(1)) if match else -1\n",
    "\n",
    "def filter_and_sort_files(file_list):\n",
    "    return sorted(\n",
    "        [file for file in file_list if extract_number(file) != 10],\n",
    "        key=extract_number\n",
    "    )\n",
    "\n",
    "train_loader, test_loader = get_data_loaders(\n",
    "    dataset_name=dataset_name, batch_size=batch_size\n",
    ")\n",
    "\n",
    "all_accs = []\n",
    "\n",
    "for seed in range(5):\n",
    "    base_path = base_path_template.format(seed)\n",
    "    file_list = get_files_with_extension(base_path, extension)\n",
    "    filtered_sorted_files = filter_and_sort_files(file_list)\n",
    "    \n",
    "    num_files = len(filtered_sorted_files)\n",
    "    acc_matrix = np.zeros((1, num_files))\n",
    "\n",
    "    for i, f1 in enumerate(tqdm(filtered_sorted_files, desc=f'Seed {seed} - Outer Loop')):\n",
    "        m1 = ResNet18(n_class).to(device)\n",
    "        m1 = modify_module_for_slth(m1, remain_rate=remain_rate, is_print=False).to(device)\n",
    "        m1.load_state_dict(torch.load(f1))\n",
    "\n",
    "        m1.eval()\n",
    "        with torch.no_grad():\n",
    "            correct = 0\n",
    "            total = 0\n",
    "            for images, labels in test_loader:\n",
    "                images = images.to(device)\n",
    "                labels = labels.to(device)\n",
    "                outputs = m1(images)\n",
    "                _, predicted = torch.max(outputs.data, 1)\n",
    "                total += labels.size(0)\n",
    "                correct += (predicted == labels).sum().item()\n",
    "\n",
    "            acc = 100 * correct / total\n",
    "            acc_matrix[0, i] = acc\n",
    "\n",
    "    all_accs.append(acc_matrix)\n",
    "\n",
    "# Print or save the results as needed\n",
    "print(all_accs)\n"
   ]
  },
  {
   "cell_type": "code",
   "execution_count": null,
   "metadata": {},
   "outputs": [],
   "source": [
    "filtered_sorted_files"
   ]
  },
  {
   "cell_type": "code",
   "execution_count": null,
   "metadata": {},
   "outputs": [],
   "source": [
    "all_accs"
   ]
  },
  {
   "cell_type": "code",
   "execution_count": null,
   "metadata": {},
   "outputs": [],
   "source": [
    "import numpy as np\n",
    "import matplotlib.pyplot as plt\n",
    "import seaborn as sns\n",
    "\n",
    "\n",
    "# 平均と標準偏差を計算\n",
    "mean_accs = np.mean(all_accs, axis=0).reshape(-1)\n",
    "std_accs = np.std(all_accs, axis=0).reshape(-1)\n",
    "\n",
    "# モデル名のリスト作成\n",
    "models = [f'{i}' for i in range(mean_accs.shape[0])]\n",
    "\n",
    "# 棒グラフの描画\n",
    "plt.figure(figsize=(14, 8))\n",
    "sns.barplot(x=models, y=mean_accs, capsize=0.2)  # 標準偏差をエラーバーとして追加\n",
    "plt.errorbar(x=models, y=mean_accs, yerr=std_accs, fmt='none', c='black', capsize=5)  # エラーバーを追加\n",
    "plt.ylim(88, 95)  # y軸の範囲を88から95に設定\n",
    "plt.xlabel('Score dist', fontsize=32)\n",
    "plt.ylabel('Accuracy (%)', fontsize=32)\n",
    "plt.title('Mean Accuracy for Each Score dist', fontsize=32)\n",
    "plt.grid(True)  # グリッドを追加\n",
    "plt.xticks(fontsize=32)\n",
    "plt.yticks(fontsize=32)\n",
    "plt.show()\n"
   ]
  },
  {
   "cell_type": "code",
   "execution_count": null,
   "metadata": {},
   "outputs": [],
   "source": [
    "mean_accs.shape"
   ]
  },
  {
   "cell_type": "code",
   "execution_count": null,
   "metadata": {},
   "outputs": [],
   "source": [
    "mean_accs.shape"
   ]
  },
  {
   "cell_type": "code",
   "execution_count": null,
   "metadata": {},
   "outputs": [],
   "source": [
    "all_accs"
   ]
  },
  {
   "cell_type": "code",
   "execution_count": null,
   "metadata": {},
   "outputs": [],
   "source": [
    "# モデル名のリスト作成\n",
    "#all_accs_for_single_model = all_accs\n",
    "mean_accs = np.mean(all_accs, axis=0)\n",
    "models = [f'{i}' for i in range(mean_accs.shape[1])]\n",
    "\n",
    "# 棒グラフの描画\n",
    "plt.figure(figsize=(14, 8))\n",
    "sns.barplot(x=models, y=mean_accs[0])\n",
    "plt.ylim(88, 95)  # y軸の範囲を0.9から1.0に設定\n",
    "plt.xlabel('Score dist', fontsize=32)\n",
    "plt.ylabel('Accuracy (%)', fontsize=32)\n",
    "plt.title('Mean Accuracy for Each Score dist', fontsize=32)\n",
    "plt.grid(True)  # グリッドを追加\n",
    "plt.xticks(fontsize=32)\n",
    "plt.yticks(fontsize=32)\n",
    "plt.show()"
   ]
  }
 ],
 "metadata": {
  "kernelspec": {
   "display_name": ".venv",
   "language": "python",
   "name": "python3"
  },
  "language_info": {
   "codemirror_mode": {
    "name": "ipython",
    "version": 3
   },
   "file_extension": ".py",
   "mimetype": "text/x-python",
   "name": "python",
   "nbconvert_exporter": "python",
   "pygments_lexer": "ipython3",
   "version": "3.9.0"
  }
 },
 "nbformat": 4,
 "nbformat_minor": 2
}
