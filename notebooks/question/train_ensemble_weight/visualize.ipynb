{
 "cells": [
  {
   "cell_type": "code",
   "execution_count": null,
   "metadata": {},
   "outputs": [],
   "source": [
    "import numpy as np\n",
    "import seaborn as sns\n",
    "import matplotlib.pyplot as plt\n",
    "import pandas as pd\n",
    "\n",
    "# データの定義\n",
    "dense = np.array([94.29, 94.09, 93.9, 93.75, 93.7])\n",
    "\n",
    "output_ensemble = np.array([94.2, 94.01, 94.12, 93.97, 94.26])\n",
    "optimize_output_ensemble = np.array([94.19, 94.1, 94.24, 93.92, 94.17])\n",
    "\n",
    "# データフレームの作成\n",
    "data = pd.DataFrame({\n",
    "    'Dense': dense,\n",
    "    'Ensemble(simple)': output_ensemble,\n",
    "    'Ensemble(weighting)': optimize_output_ensemble\n",
    "})\n",
    "\n",
    "# 平均と標準偏差の計算\n",
    "mean_values = data.mean()\n",
    "std_values = data.std()\n",
    "\n",
    "# プロットの設定\n",
    "plt.figure(figsize=(18, 12))  # フィギュアサイズの設定\n",
    "sns.barplot(data=data, ci=None, palette='viridis')\n",
    "plt.errorbar(x=range(len(mean_values)), y=mean_values, yerr=std_values, fmt='none', c='black', capsize=5)\n",
    "\n",
    "\n",
    "# タイトルとラベルの設定\n",
    "plt.title('Comparison of Model Outputs with Standard Deviation', fontsize=32)\n",
    "plt.ylabel('Accuracy (%)', fontsize=32)\n",
    "plt.xticks(ticks=np.arange(len(mean_values)), labels=data.columns, fontsize=32)\n",
    "plt.yticks(fontsize=32)\n",
    "#plt.xticks(rotation=90)\n",
    "plt.grid()\n",
    "\n",
    "# y軸の範囲設定\n",
    "plt.ylim(93.5, 94.5)\n",
    "\n",
    "plt.show()\n"
   ]
  },
  {
   "cell_type": "code",
   "execution_count": null,
   "metadata": {},
   "outputs": [],
   "source": [
    "import numpy as np\n",
    "from scipy import stats\n",
    "\n",
    "\n",
    "ensemble_simple = np.array([94.2, 94.01, 94.12, 93.97, 94.26])\n",
    "ensemble_weighting = np.array([94.19, 94.1, 94.24, 93.92, 94.17])\n",
    "\n",
    "\n",
    "# t検定を実行\n",
    "t_stat, p_value = stats.ttest_ind(ensemble_simple, ensemble_weighting)\n",
    "\n",
    "print(f\"t-statistic: {t_stat}, p-value: {p_value}\")\n",
    "\n",
    "# p値が0.05未満であれば統計的に有意と見なします\n",
    "if p_value < 0.05:\n",
    "    print(\"The difference is statistically significant.\")\n",
    "else:\n",
    "    print(\"The difference is not statistically significant.\")\n"
   ]
  },
  {
   "cell_type": "code",
   "execution_count": null,
   "metadata": {},
   "outputs": [],
   "source": []
  }
 ],
 "metadata": {
  "kernelspec": {
   "display_name": ".venv",
   "language": "python",
   "name": "python3"
  },
  "language_info": {
   "codemirror_mode": {
    "name": "ipython",
    "version": 3
   },
   "file_extension": ".py",
   "mimetype": "text/x-python",
   "name": "python",
   "nbconvert_exporter": "python",
   "pygments_lexer": "ipython3",
   "version": "3.9.0"
  }
 },
 "nbformat": 4,
 "nbformat_minor": 2
}
