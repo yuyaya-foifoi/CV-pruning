{
 "cells": [
  {
   "cell_type": "code",
   "execution_count": null,
   "metadata": {},
   "outputs": [],
   "source": [
    "cd ../../../"
   ]
  },
  {
   "cell_type": "code",
   "execution_count": null,
   "metadata": {},
   "outputs": [],
   "source": [
    "import pandas as pd\n",
    "import os\n",
    "import numpy as np"
   ]
  },
  {
   "cell_type": "code",
   "execution_count": null,
   "metadata": {},
   "outputs": [],
   "source": [
    "import os\n",
    "import pandas as pd\n",
    "import numpy as np\n",
    "\n",
    "base_path = './logs/CIFAR10/is_prune/baseline/20240606_q1/'\n",
    "\n",
    "def calculate_statistics(dirname, date, base_path=base_path):\n",
    "    seeds = [pd.read_csv(os.path.join(base_path, f'{dirname}/seed_{i}/{date}/training_results.csv')) for i in range(5)]\n",
    "    accuracies = [seed.iloc[:, 2].max() for seed in seeds]\n",
    "    return np.mean(accuracies), np.std(accuracies)\n",
    "\n",
    "# Example usage\n",
    "dirname = \"remain_rate_10\"\n",
    "date = \"2024_06_07_04_53_38\"\n",
    "mean_accuracy, std_accuracy = calculate_statistics(dirname, date)\n",
    "print(f\"Mean Accuracy: {mean_accuracy}, Std Accuracy: {std_accuracy}\")\n",
    "\n",
    "dirname = \"remain_rate_30\"\n",
    "date = \"2024_06_07_00_03_15\"\n",
    "mean_accuracy, std_accuracy = calculate_statistics(dirname, date)\n",
    "print(f\"Mean Accuracy: {mean_accuracy}, Std Accuracy: {std_accuracy}\")\n",
    "\n",
    "dirname = \"remain_rate_50\"\n",
    "date = \"2024_06_06_19_13_37\"\n",
    "mean_accuracy, std_accuracy = calculate_statistics(dirname, date)\n",
    "print(f\"Mean Accuracy: {mean_accuracy}, Std Accuracy: {std_accuracy}\")\n",
    "\n",
    "dirname = \"remain_rate_70\"\n",
    "date = \"2024_06_06_14_20_57\"\n",
    "mean_accuracy, std_accuracy = calculate_statistics(dirname, date)\n",
    "print(f\"Mean Accuracy: {mean_accuracy}, Std Accuracy: {std_accuracy}\")\n",
    "\n",
    "dirname = \"remain_rate_90\"\n",
    "date = \"2024_06_06_09_26_05\"\n",
    "mean_accuracy, std_accuracy = calculate_statistics(dirname, date)\n",
    "print(f\"Mean Accuracy: {mean_accuracy}, Std Accuracy: {std_accuracy}\")\n"
   ]
  },
  {
   "cell_type": "code",
   "execution_count": null,
   "metadata": {},
   "outputs": [],
   "source": [
    "import os\n",
    "import pandas as pd\n",
    "import numpy as np\n",
    "import seaborn as sns\n",
    "import matplotlib.pyplot as plt\n",
    "\n",
    "def calculate_statistics(dirname, date):\n",
    "    base_path = './logs/CIFAR10/is_prune/baseline/20240606_q1/'\n",
    "    seeds = [pd.read_csv(os.path.join(base_path, f'{dirname}/seed_{i}/{date}/training_results.csv')) for i in range(5)]\n",
    "    accuracies = [seed.iloc[:, 2].max() for seed in seeds]\n",
    "    return np.mean(accuracies), np.std(accuracies)\n",
    "\n",
    "# List of dirname and date pairs\n",
    "params = [\n",
    "    (\"remain_rate_90\", \"2024_06_06_09_26_05\"),\n",
    "    (\"remain_rate_70\", \"2024_06_06_14_20_57\"),\n",
    "    (\"remain_rate_50\", \"2024_06_06_19_13_37\"),\n",
    "    (\"remain_rate_30\", \"2024_06_07_00_03_15\"),\n",
    "    (\"remain_rate_10\", \"2024_06_07_04_53_38\")\n",
    "]\n",
    "\n",
    "remain_rates = []\n",
    "mean_accuracies = []\n",
    "std_accuracies = []\n",
    "\n",
    "# Calculate statistics for each remain rate\n",
    "for dirname, date in params:\n",
    "    mean_accuracy, std_accuracy = calculate_statistics(dirname, date)\n",
    "    remain_rate = int(dirname.split('_')[-1])\n",
    "    remain_rates.append(remain_rate)\n",
    "    mean_accuracies.append(mean_accuracy)\n",
    "    std_accuracies.append(std_accuracy)\n",
    "    print(f\"Remain Rate: {remain_rate}, Mean Accuracy: {mean_accuracy}, Std Accuracy: {std_accuracy}\")\n",
    "\n",
    "# Plot the results using Seaborn\n",
    "plt.figure(figsize=(14, 8))\n",
    "sns.set(style=\"whitegrid\")\n",
    "\n",
    "ax = sns.lineplot(x=remain_rates, y=mean_accuracies, marker='o', linewidth=2.5)\n",
    "ax.errorbar(remain_rates, mean_accuracies, yerr=std_accuracies, fmt='o', capsize=5, color='blue')\n",
    "\n",
    "ax.set_xlabel('Remain Rate (%)', fontsize=32)\n",
    "ax.set_ylabel('Accuracy (%)', fontsize=32)\n",
    "ax.set_title('Accuracy vs Remain Rate with Standard Deviation', fontsize=32)\n",
    "ax.tick_params(axis='both', which='major', labelsize=32)\n",
    "ax.set_xticks(remain_rates)\n",
    "\n",
    "plt.gca().invert_xaxis()  # x軸の値を逆順に表示\n",
    "\n",
    "plt.show()"
   ]
  },
  {
   "cell_type": "code",
   "execution_count": null,
   "metadata": {},
   "outputs": [],
   "source": [
    "remain_rates"
   ]
  },
  {
   "cell_type": "code",
   "execution_count": null,
   "metadata": {},
   "outputs": [],
   "source": []
  }
 ],
 "metadata": {
  "kernelspec": {
   "display_name": ".venv",
   "language": "python",
   "name": "python3"
  },
  "language_info": {
   "codemirror_mode": {
    "name": "ipython",
    "version": 3
   },
   "file_extension": ".py",
   "mimetype": "text/x-python",
   "name": "python",
   "nbconvert_exporter": "python",
   "pygments_lexer": "ipython3",
   "version": "3.9.0"
  }
 },
 "nbformat": 4,
 "nbformat_minor": 2
}
